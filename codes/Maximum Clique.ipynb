{
 "cells": [
  {
   "cell_type": "code",
   "execution_count": null,
   "metadata": {
    "collapsed": true
   },
   "outputs": [],
   "source": [
    "import networkx as nx\n",
    "import pygraphviz as pgv\n",
    "from nxpd import draw, nxpdParams\n",
    "nxpdParams['show'] = 'ipynb'\n",
    "\n",
    "\n",
    "G = nx.Graph()\n",
    "G.add_edges_from([('a', 'b'), ('b', 'c'), ('c', 'd'), ('d', 'e'), ('e', 'a'),\n",
    "                  ('f', 'a'), ('g', 'b'), ('h', 'c'), ('i', 'd'), ('j', 'e'), \n",
    "                  ('f', 'h'), ('h', 'j'), ('j', 'g'), ('g', 'i'), ('i', 'f'),\n",
    "                  ('j', 'i'), ('j', 'd'), ('d', 'g')])\n",
    "\n",
    "draw(G, layout='circo')"
   ]
  },
  {
   "cell_type": "code",
   "execution_count": null,
   "metadata": {
    "collapsed": true
   },
   "outputs": [],
   "source": [
    "cliques=nx.find_cliques(G)\n",
    "max_clique = G.nodes()[0]\n",
    "for c in cliques:\n",
    "    if (len(c) > len(max_clique)):\n",
    "        max_clique = c\n",
    "        \n",
    "for v in max_clique:\n",
    "    G.node[v]['color'] = 'red'\n",
    "    for u in max_clique:\n",
    "        if u != v:\n",
    "            G[u][v]['color']='red'\n",
    "            \n",
    "draw(G, layout='circo')"
   ]
  }
 ],
 "metadata": {
  "kernelspec": {
   "display_name": "Python 3",
   "language": "python",
   "name": "python3"
  },
  "language_info": {
   "codemirror_mode": {
    "name": "ipython",
    "version": 3
   },
   "file_extension": ".py",
   "mimetype": "text/x-python",
   "name": "python",
   "nbconvert_exporter": "python",
   "pygments_lexer": "ipython3",
   "version": "3.5.2"
  }
 },
 "nbformat": 4,
 "nbformat_minor": 1
}
