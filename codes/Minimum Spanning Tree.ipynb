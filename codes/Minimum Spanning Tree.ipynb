{
 "cells": [
  {
   "cell_type": "code",
   "execution_count": null,
   "metadata": {
    "collapsed": true
   },
   "outputs": [],
   "source": [
    "import networkx as nx\n",
    "import pygraphviz as pgv\n",
    "from nxpd import draw, nxpdParams\n",
    "nxpdParams['show'] = 'ipynb'\n",
    "\n",
    "\n",
    "G = nx.Graph()\n",
    "G.add_edges_from([\n",
    "        ('a', 'b', {'weight':2, 'label': 2}), \n",
    "        ('a', 'c', {'weight':3, 'label': 3}), \n",
    "        ('a', 'd', {'weight':1, 'label': 1}), \n",
    "        ('a', 'e', {'weight':3, 'label': 3}), \n",
    "        ('b', 'c', {'weight':4, 'label': 4}), \n",
    "        ('c', 'd', {'weight':5, 'label': 5}), \n",
    "        ('d', 'e', {'weight':4, 'label': 4}), \n",
    "        ('e', 'a', {'weight':1, 'label': 1})\n",
    "    ])\n",
    "draw(G, layout='circo')"
   ]
  },
  {
   "cell_type": "code",
   "execution_count": null,
   "metadata": {
    "collapsed": true
   },
   "outputs": [],
   "source": [
    "T = nx.minimum_spanning_tree(G)\n",
    "for e in T.edges():\n",
    "    G[e[0]][e[1]]['color'] = 'blue'\n",
    "draw(G, layout='circo')"
   ]
  }
 ],
 "metadata": {
  "kernelspec": {
   "display_name": "Python 3",
   "language": "python",
   "name": "python3"
  },
  "language_info": {
   "codemirror_mode": {
    "name": "ipython",
    "version": 3
   },
   "file_extension": ".py",
   "mimetype": "text/x-python",
   "name": "python",
   "nbconvert_exporter": "python",
   "pygments_lexer": "ipython3",
   "version": "3.5.2"
  }
 },
 "nbformat": 4,
 "nbformat_minor": 1
}
